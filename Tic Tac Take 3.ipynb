{
 "cells": [
  {
   "cell_type": "code",
   "execution_count": 26,
   "metadata": {},
   "outputs": [],
   "source": [
    "import math\n",
    "\n",
    "def enter(spot,side,binput):\n",
    "    if binput[spot] != 'X' and binput[spot] != 'O':\n",
    "        binput[spot] = side\n",
    "        return (binput)\n",
    "def printboard(board):\n",
    "    print (board[0],'|',board[1],'|',board[2])\n",
    "    print ('---------')\n",
    "    print (board[3],'|',board[4],'|',board[5])\n",
    "    print ('---------')\n",
    "    print (board[6],'|',board[7],'|',board[8])\n",
    "\n",
    "def freespots(board):\n",
    "    spotlist = []\n",
    "    for i in board:\n",
    "        if i != 'X' and i != 'O':\n",
    "            spotlist.append (i)\n",
    "    return spotlist\n",
    "\n",
    "def wincheck(board):\n",
    "    a = 0\n",
    "    for i in range(3):\n",
    "        if board[a] == board[a+1] == board[a+2]:\n",
    "            if board[a] == 'X':\n",
    "                return 1\n",
    "            elif board[a] == 'O':\n",
    "                return -1\n",
    "        a += 3\n",
    "    a = 0\n",
    "    for i in range(3):\n",
    "        if board[a] == board [a+3] == board [a+6]:\n",
    "            if board[a] == 'X':\n",
    "                return 1\n",
    "            elif board[a] == 'O':\n",
    "                return -1\n",
    "        a += 1\n",
    "    if board[0] == board[4] == board[8]:\n",
    "        if board[0] == 'X':\n",
    "            return 1\n",
    "        else:\n",
    "            return -1\n",
    "    if board[2] == board[4] == board[6]:\n",
    "        if board[2] == 'X':\n",
    "            return 1\n",
    "        elif board[2] == 'O':\n",
    "            return -1\n",
    "    return 0\n",
    "def main():\n",
    "    board = [0,1,2,3,4,5,6,7,8]\n",
    "    sideturn = 'X'\n",
    "    while freespots(board) != []:\n",
    "        if sideturn == 'X':\n",
    "            board = enter(int(input('Choose X ')),'X',board)\n",
    "            sideturn = 'O'\n",
    "        elif sideturn == 'O':\n",
    "            board = enter(int(findbestmove(board,'O')),'O',board)\n",
    "            sideturn = 'X'\n",
    "        printboard(board)\n",
    "        if wincheck(board) == 1:\n",
    "            print ('X Won')\n",
    "            break \n",
    "        if wincheck(board) == -1:\n",
    "            print ('O Won')\n",
    "            break\n",
    "            \n",
    "def findbestmove(board,side):\n",
    "    scores = []\n",
    "    for i in freespots(board):\n",
    "        scores.append((minimax(board,side,i),i))\n",
    "    if side == 'X':\n",
    "        tlist = max(scores,key=lambda x:x[0])\n",
    "        return tlist[1]\n",
    "    else:\n",
    "        tlist = min(scores,key=lambda x:x[0])\n",
    "        return tlist[1]\n",
    "    \n",
    "    \n",
    "def minimax(board,side,move):\n",
    "    tempboard = board.copy()\n",
    "    tempboard[move] = side\n",
    "    tscore = wincheck(tempboard)\n",
    "    if tscore == 1 or tscore == -1 or (tscore == 0 and freespots(tempboard) == []):\n",
    "        return tscore\n",
    "    if side == 'X':\n",
    "        side = 'O'\n",
    "    else:\n",
    "        side = 'X'\n",
    "    scores = []\n",
    "    for i in freespots(tempboard):\n",
    "        scores.append(minimax(tempboard,side,i))\n",
    "    if side == 'X':\n",
    "        return max(scores)\n",
    "    return min(scores)\n",
    "\n",
    "\n"
   ]
  },
  {
   "cell_type": "code",
   "execution_count": 27,
   "metadata": {},
   "outputs": [
    {
     "name": "stdin",
     "output_type": "stream",
     "text": [
      "Choose X  4\n"
     ]
    },
    {
     "name": "stdout",
     "output_type": "stream",
     "text": [
      "0 | 1 | 2\n",
      "---------\n",
      "3 | X | 5\n",
      "---------\n",
      "6 | 7 | 8\n",
      "O | 1 | 2\n",
      "---------\n",
      "3 | X | 5\n",
      "---------\n",
      "6 | 7 | 8\n"
     ]
    },
    {
     "name": "stdin",
     "output_type": "stream",
     "text": [
      "Choose X  8\n"
     ]
    },
    {
     "name": "stdout",
     "output_type": "stream",
     "text": [
      "O | 1 | 2\n",
      "---------\n",
      "3 | X | 5\n",
      "---------\n",
      "6 | 7 | X\n",
      "O | 1 | O\n",
      "---------\n",
      "3 | X | 5\n",
      "---------\n",
      "6 | 7 | X\n"
     ]
    },
    {
     "name": "stdin",
     "output_type": "stream",
     "text": [
      "Choose X  1\n"
     ]
    },
    {
     "name": "stdout",
     "output_type": "stream",
     "text": [
      "O | X | O\n",
      "---------\n",
      "3 | X | 5\n",
      "---------\n",
      "6 | 7 | X\n",
      "O | X | O\n",
      "---------\n",
      "3 | X | 5\n",
      "---------\n",
      "6 | O | X\n"
     ]
    },
    {
     "ename": "KeyboardInterrupt",
     "evalue": "Interrupted by user",
     "output_type": "error",
     "traceback": [
      "\u001b[1;31m---------------------------------------------------------------------------\u001b[0m",
      "\u001b[1;31mKeyboardInterrupt\u001b[0m                         Traceback (most recent call last)",
      "\u001b[1;32m<ipython-input-27-263240bbee7e>\u001b[0m in \u001b[0;36m<module>\u001b[1;34m\u001b[0m\n\u001b[1;32m----> 1\u001b[1;33m \u001b[0mmain\u001b[0m\u001b[1;33m(\u001b[0m\u001b[1;33m)\u001b[0m\u001b[1;33m\u001b[0m\u001b[1;33m\u001b[0m\u001b[0m\n\u001b[0m",
      "\u001b[1;32m<ipython-input-26-93207d29c967>\u001b[0m in \u001b[0;36mmain\u001b[1;34m()\u001b[0m\n\u001b[0;32m     52\u001b[0m     \u001b[1;32mwhile\u001b[0m \u001b[0mfreespots\u001b[0m\u001b[1;33m(\u001b[0m\u001b[0mboard\u001b[0m\u001b[1;33m)\u001b[0m \u001b[1;33m!=\u001b[0m \u001b[1;33m[\u001b[0m\u001b[1;33m]\u001b[0m\u001b[1;33m:\u001b[0m\u001b[1;33m\u001b[0m\u001b[1;33m\u001b[0m\u001b[0m\n\u001b[0;32m     53\u001b[0m         \u001b[1;32mif\u001b[0m \u001b[0msideturn\u001b[0m \u001b[1;33m==\u001b[0m \u001b[1;34m'X'\u001b[0m\u001b[1;33m:\u001b[0m\u001b[1;33m\u001b[0m\u001b[1;33m\u001b[0m\u001b[0m\n\u001b[1;32m---> 54\u001b[1;33m             \u001b[0mboard\u001b[0m \u001b[1;33m=\u001b[0m \u001b[0menter\u001b[0m\u001b[1;33m(\u001b[0m\u001b[0mint\u001b[0m\u001b[1;33m(\u001b[0m\u001b[0minput\u001b[0m\u001b[1;33m(\u001b[0m\u001b[1;34m'Choose X '\u001b[0m\u001b[1;33m)\u001b[0m\u001b[1;33m)\u001b[0m\u001b[1;33m,\u001b[0m\u001b[1;34m'X'\u001b[0m\u001b[1;33m,\u001b[0m\u001b[0mboard\u001b[0m\u001b[1;33m)\u001b[0m\u001b[1;33m\u001b[0m\u001b[1;33m\u001b[0m\u001b[0m\n\u001b[0m\u001b[0;32m     55\u001b[0m             \u001b[0msideturn\u001b[0m \u001b[1;33m=\u001b[0m \u001b[1;34m'O'\u001b[0m\u001b[1;33m\u001b[0m\u001b[1;33m\u001b[0m\u001b[0m\n\u001b[0;32m     56\u001b[0m         \u001b[1;32melif\u001b[0m \u001b[0msideturn\u001b[0m \u001b[1;33m==\u001b[0m \u001b[1;34m'O'\u001b[0m\u001b[1;33m:\u001b[0m\u001b[1;33m\u001b[0m\u001b[1;33m\u001b[0m\u001b[0m\n",
      "\u001b[1;32m~\\anaconda3\\lib\\site-packages\\ipykernel\\kernelbase.py\u001b[0m in \u001b[0;36mraw_input\u001b[1;34m(self, prompt)\u001b[0m\n\u001b[0;32m    858\u001b[0m                 \u001b[1;34m\"raw_input was called, but this frontend does not support input requests.\"\u001b[0m\u001b[1;33m\u001b[0m\u001b[1;33m\u001b[0m\u001b[0m\n\u001b[0;32m    859\u001b[0m             )\n\u001b[1;32m--> 860\u001b[1;33m         return self._input_request(str(prompt),\n\u001b[0m\u001b[0;32m    861\u001b[0m             \u001b[0mself\u001b[0m\u001b[1;33m.\u001b[0m\u001b[0m_parent_ident\u001b[0m\u001b[1;33m,\u001b[0m\u001b[1;33m\u001b[0m\u001b[1;33m\u001b[0m\u001b[0m\n\u001b[0;32m    862\u001b[0m             \u001b[0mself\u001b[0m\u001b[1;33m.\u001b[0m\u001b[0m_parent_header\u001b[0m\u001b[1;33m,\u001b[0m\u001b[1;33m\u001b[0m\u001b[1;33m\u001b[0m\u001b[0m\n",
      "\u001b[1;32m~\\anaconda3\\lib\\site-packages\\ipykernel\\kernelbase.py\u001b[0m in \u001b[0;36m_input_request\u001b[1;34m(self, prompt, ident, parent, password)\u001b[0m\n\u001b[0;32m    902\u001b[0m             \u001b[1;32mexcept\u001b[0m \u001b[0mKeyboardInterrupt\u001b[0m\u001b[1;33m:\u001b[0m\u001b[1;33m\u001b[0m\u001b[1;33m\u001b[0m\u001b[0m\n\u001b[0;32m    903\u001b[0m                 \u001b[1;31m# re-raise KeyboardInterrupt, to truncate traceback\u001b[0m\u001b[1;33m\u001b[0m\u001b[1;33m\u001b[0m\u001b[1;33m\u001b[0m\u001b[0m\n\u001b[1;32m--> 904\u001b[1;33m                 \u001b[1;32mraise\u001b[0m \u001b[0mKeyboardInterrupt\u001b[0m\u001b[1;33m(\u001b[0m\u001b[1;34m\"Interrupted by user\"\u001b[0m\u001b[1;33m)\u001b[0m \u001b[1;32mfrom\u001b[0m \u001b[1;32mNone\u001b[0m\u001b[1;33m\u001b[0m\u001b[1;33m\u001b[0m\u001b[0m\n\u001b[0m\u001b[0;32m    905\u001b[0m             \u001b[1;32mexcept\u001b[0m \u001b[0mException\u001b[0m \u001b[1;32mas\u001b[0m \u001b[0me\u001b[0m\u001b[1;33m:\u001b[0m\u001b[1;33m\u001b[0m\u001b[1;33m\u001b[0m\u001b[0m\n\u001b[0;32m    906\u001b[0m                 \u001b[0mself\u001b[0m\u001b[1;33m.\u001b[0m\u001b[0mlog\u001b[0m\u001b[1;33m.\u001b[0m\u001b[0mwarning\u001b[0m\u001b[1;33m(\u001b[0m\u001b[1;34m\"Invalid Message:\"\u001b[0m\u001b[1;33m,\u001b[0m \u001b[0mexc_info\u001b[0m\u001b[1;33m=\u001b[0m\u001b[1;32mTrue\u001b[0m\u001b[1;33m)\u001b[0m\u001b[1;33m\u001b[0m\u001b[1;33m\u001b[0m\u001b[0m\n",
      "\u001b[1;31mKeyboardInterrupt\u001b[0m: Interrupted by user"
     ]
    }
   ],
   "source": [
    "main()"
   ]
  },
  {
   "cell_type": "code",
   "execution_count": 19,
   "metadata": {},
   "outputs": [
    {
     "data": {
      "text/plain": [
       "1"
      ]
     },
     "execution_count": 19,
     "metadata": {},
     "output_type": "execute_result"
    }
   ],
   "source": []
  },
  {
   "cell_type": "code",
   "execution_count": null,
   "metadata": {},
   "outputs": [],
   "source": []
  },
  {
   "cell_type": "code",
   "execution_count": null,
   "metadata": {},
   "outputs": [],
   "source": []
  }
 ],
 "metadata": {
  "kernelspec": {
   "display_name": "Python 3",
   "language": "python",
   "name": "python3"
  },
  "language_info": {
   "codemirror_mode": {
    "name": "ipython",
    "version": 3
   },
   "file_extension": ".py",
   "mimetype": "text/x-python",
   "name": "python",
   "nbconvert_exporter": "python",
   "pygments_lexer": "ipython3",
   "version": "3.8.3"
  }
 },
 "nbformat": 4,
 "nbformat_minor": 4
}
